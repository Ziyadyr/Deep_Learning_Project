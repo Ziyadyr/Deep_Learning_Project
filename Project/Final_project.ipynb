{
 "cells": [
  {
   "cell_type": "markdown",
   "id": "cae4589f-9093-4b21-9bd3-04e7b76f3ed7",
   "metadata": {},
   "source": [
    "# Dataset : https://www.kaggle.com/datasets/ranand60/unstructured-text-language-data/data"
   ]
  },
  {
   "cell_type": "markdown",
   "id": "8134aa04-616b-4698-84ca-b578d0943aaf",
   "metadata": {},
   "source": [
    "# Downloading Data"
   ]
  },
  {
   "cell_type": "code",
   "execution_count": 5,
   "id": "edbd2167-e7a3-4528-8773-30dd4fd84403",
   "metadata": {},
   "outputs": [
    {
     "data": {
      "text/plain": [
       "'/Users/ziyad/.kaggle/kaggle.json'"
      ]
     },
     "execution_count": 5,
     "metadata": {},
     "output_type": "execute_result"
    }
   ],
   "source": [
    "import os\n",
    "import shutil\n",
    "import kaggle\n",
    "import zipfile\n",
    "COMPETITION_ID = 'unstructured-text-language-data' # Define the competition ID from kaggle\n",
    "current_user_profile = os.path.expanduser(\"~\")\n",
    "kaggle_directory = os.path.join(current_user_profile, \".kaggle\")\n",
    "extract_dir = os.getcwd()\n",
    "source_path = \"kaggle.json\"\n",
    "destination_path = os.path.join(kaggle_directory, \"kaggle.json\")\n",
    "shutil.copy(source_path, destination_path)"
   ]
  },
  {
   "cell_type": "code",
   "execution_count": 6,
   "id": "35373f7d-5c85-43d5-b016-15c19b331861",
   "metadata": {},
   "outputs": [
    {
     "name": "stdout",
     "output_type": "stream",
     "text": [
      "Warning: Your Kaggle API key is readable by other users on this system! To fix this, you can run 'chmod 600 /Users/ziyad/.kaggle/kaggle.json'\n",
      "Dataset URL: https://www.kaggle.com/datasets/ranand60/unstructured-text-language-data\n"
     ]
    }
   ],
   "source": [
    "kaggle.api.authenticate()\n",
    "kaggle.api.dataset_download_files(dataset='ranand60/unstructured-text-language-data',path=extract_dir)"
   ]
  },
  {
   "cell_type": "code",
   "execution_count": 7,
   "id": "022e89ab-3ec8-454f-88e3-ce1890c143a8",
   "metadata": {},
   "outputs": [
    {
     "name": "stdout",
     "output_type": "stream",
     "text": [
      "The contents of unstructured-text-language-data.zip have been extracted to /Users/ziyad/Documents/Term_5/Deep learning/Final project.\n"
     ]
    }
   ],
   "source": [
    "zip_file = '{}.zip'.format(COMPETITION_ID)\n",
    "\n",
    "# Open and extract the ZIP file\n",
    "with zipfile.ZipFile(zip_file, 'r') as zip_ref:\n",
    "    contents = zip_ref.namelist()\n",
    "    zip_ref.extractall(extract_dir)\n",
    "for i in contents:\n",
    "    if i.endswith('.zip'):\n",
    "        with zipfile.ZipFile(i, 'r') as zip_ref:\n",
    "            contents = zip_ref.namelist()\n",
    "            zip_ref.extractall(extract_dir)\n",
    "\n",
    "print(f'The contents of {zip_file} have been extracted to {extract_dir}.')"
   ]
  },
  {
   "cell_type": "markdown",
   "id": "cc843dae-962c-4dd2-9197-668b4945b606",
   "metadata": {},
   "source": [
    "# Data Understanding"
   ]
  },
  {
   "cell_type": "code",
   "execution_count": 2,
   "id": "e1ef174b-891b-4670-8895-9d30d19c33d5",
   "metadata": {},
   "outputs": [],
   "source": [
    "import numpy as np\n",
    "import pandas as pd"
   ]
  },
  {
   "cell_type": "code",
   "execution_count": 3,
   "id": "5fd227f5-e35e-4428-b139-91a04ac57550",
   "metadata": {},
   "outputs": [],
   "source": [
    "df = pd.read_excel(\"Unstructured Data English.xlsx\")"
   ]
  },
  {
   "cell_type": "code",
   "execution_count": 4,
   "id": "daad7b41-e64a-4304-bb85-9405d0fb01e6",
   "metadata": {},
   "outputs": [
    {
     "data": {
      "text/html": [
       "<div>\n",
       "<style scoped>\n",
       "    .dataframe tbody tr th:only-of-type {\n",
       "        vertical-align: middle;\n",
       "    }\n",
       "\n",
       "    .dataframe tbody tr th {\n",
       "        vertical-align: top;\n",
       "    }\n",
       "\n",
       "    .dataframe thead th {\n",
       "        text-align: right;\n",
       "    }\n",
       "</style>\n",
       "<table border=\"1\" class=\"dataframe\">\n",
       "  <thead>\n",
       "    <tr style=\"text-align: right;\">\n",
       "      <th></th>\n",
       "      <th>ID</th>\n",
       "      <th>Katakana text Translated</th>\n",
       "      <th>Unnamed: 2</th>\n",
       "    </tr>\n",
       "  </thead>\n",
       "  <tbody>\n",
       "    <tr>\n",
       "      <th>0</th>\n",
       "      <td>1</td>\n",
       "      <td>Huge @Patriots pep rally at Toso's in PHX...wa...</td>\n",
       "      <td>NaN</td>\n",
       "    </tr>\n",
       "    <tr>\n",
       "      <th>1</th>\n",
       "      <td>2</td>\n",
       "      <td>For Robert Kraft and Roger Goodell air still i...</td>\n",
       "      <td>NaN</td>\n",
       "    </tr>\n",
       "    <tr>\n",
       "      <th>2</th>\n",
       "      <td>3</td>\n",
       "      <td>For Robert Kraft and Roger Goodell air still i...</td>\n",
       "      <td>NaN</td>\n",
       "    </tr>\n",
       "    <tr>\n",
       "      <th>3</th>\n",
       "      <td>4</td>\n",
       "      <td>Need #recipes? Visit the Kraft #CookingUpGood ...</td>\n",
       "      <td>NaN</td>\n",
       "    </tr>\n",
       "    <tr>\n",
       "      <th>4</th>\n",
       "      <td>5</td>\n",
       "      <td>@EdgeofSports You take the good-You take the b...</td>\n",
       "      <td>NaN</td>\n",
       "    </tr>\n",
       "  </tbody>\n",
       "</table>\n",
       "</div>"
      ],
      "text/plain": [
       "   ID                           Katakana text Translated Unnamed: 2\n",
       "0   1  Huge @Patriots pep rally at Toso's in PHX...wa...        NaN\n",
       "1   2  For Robert Kraft and Roger Goodell air still i...        NaN\n",
       "2   3  For Robert Kraft and Roger Goodell air still i...        NaN\n",
       "3   4  Need #recipes? Visit the Kraft #CookingUpGood ...        NaN\n",
       "4   5  @EdgeofSports You take the good-You take the b...        NaN"
      ]
     },
     "execution_count": 4,
     "metadata": {},
     "output_type": "execute_result"
    }
   ],
   "source": [
    "df.head()"
   ]
  },
  {
   "cell_type": "code",
   "execution_count": 5,
   "id": "b65cc50a-af8b-40ab-bf66-a3b94aed0cbf",
   "metadata": {},
   "outputs": [
    {
     "data": {
      "text/html": [
       "<div>\n",
       "<style scoped>\n",
       "    .dataframe tbody tr th:only-of-type {\n",
       "        vertical-align: middle;\n",
       "    }\n",
       "\n",
       "    .dataframe tbody tr th {\n",
       "        vertical-align: top;\n",
       "    }\n",
       "\n",
       "    .dataframe thead th {\n",
       "        text-align: right;\n",
       "    }\n",
       "</style>\n",
       "<table border=\"1\" class=\"dataframe\">\n",
       "  <thead>\n",
       "    <tr style=\"text-align: right;\">\n",
       "      <th></th>\n",
       "      <th>ID</th>\n",
       "      <th>Katakana text Translated</th>\n",
       "      <th>Unnamed: 2</th>\n",
       "    </tr>\n",
       "  </thead>\n",
       "  <tbody>\n",
       "    <tr>\n",
       "      <th>6931</th>\n",
       "      <td>6932</td>\n",
       "      <td>CHEESE IN MY POCKETS VELVEETA\"</td>\n",
       "      <td>NaN</td>\n",
       "    </tr>\n",
       "    <tr>\n",
       "      <th>6932</th>\n",
       "      <td>6933</td>\n",
       "      <td>But why somebody just posted a pic on my fb fe...</td>\n",
       "      <td>NaN</td>\n",
       "    </tr>\n",
       "    <tr>\n",
       "      <th>6933</th>\n",
       "      <td>6934</td>\n",
       "      <td>Cheese in my pockets .. Velveeta</td>\n",
       "      <td>NaN</td>\n",
       "    </tr>\n",
       "    <tr>\n",
       "      <th>6934</th>\n",
       "      <td>6935</td>\n",
       "      <td>Cheese in my pocket Velveeta !</td>\n",
       "      <td>NaN</td>\n",
       "    </tr>\n",
       "    <tr>\n",
       "      <th>6935</th>\n",
       "      <td>6936</td>\n",
       "      <td>Get a #Save $1 off #Kraft Natural #Cheese Prod...</td>\n",
       "      <td>NaN</td>\n",
       "    </tr>\n",
       "  </tbody>\n",
       "</table>\n",
       "</div>"
      ],
      "text/plain": [
       "        ID                           Katakana text Translated Unnamed: 2\n",
       "6931  6932                     CHEESE IN MY POCKETS VELVEETA\"        NaN\n",
       "6932  6933  But why somebody just posted a pic on my fb fe...        NaN\n",
       "6933  6934                   Cheese in my pockets .. Velveeta        NaN\n",
       "6934  6935                     Cheese in my pocket Velveeta !        NaN\n",
       "6935  6936  Get a #Save $1 off #Kraft Natural #Cheese Prod...        NaN"
      ]
     },
     "execution_count": 5,
     "metadata": {},
     "output_type": "execute_result"
    }
   ],
   "source": [
    "df.tail()"
   ]
  },
  {
   "cell_type": "code",
   "execution_count": 6,
   "id": "f841d76b-c8a9-4c98-aaba-50dbe2d31879",
   "metadata": {},
   "outputs": [
    {
     "data": {
      "text/html": [
       "<div>\n",
       "<style scoped>\n",
       "    .dataframe tbody tr th:only-of-type {\n",
       "        vertical-align: middle;\n",
       "    }\n",
       "\n",
       "    .dataframe tbody tr th {\n",
       "        vertical-align: top;\n",
       "    }\n",
       "\n",
       "    .dataframe thead th {\n",
       "        text-align: right;\n",
       "    }\n",
       "</style>\n",
       "<table border=\"1\" class=\"dataframe\">\n",
       "  <thead>\n",
       "    <tr style=\"text-align: right;\">\n",
       "      <th></th>\n",
       "      <th>ID</th>\n",
       "      <th>Katakana text Translated</th>\n",
       "      <th>Unnamed: 2</th>\n",
       "    </tr>\n",
       "  </thead>\n",
       "  <tbody>\n",
       "    <tr>\n",
       "      <th>1693</th>\n",
       "      <td>1694</td>\n",
       "      <td>Roger Goodell on deflategate investigation Kra...</td>\n",
       "      <td>NaN</td>\n",
       "    </tr>\n",
       "    <tr>\n",
       "      <th>3778</th>\n",
       "      <td>3779</td>\n",
       "      <td>So basically the commissioner says he won't be...</td>\n",
       "      <td>NaN</td>\n",
       "    </tr>\n",
       "    <tr>\n",
       "      <th>4229</th>\n",
       "      <td>4230</td>\n",
       "      <td>Patriots owner Kraft stands front-and-center i...</td>\n",
       "      <td>NaN</td>\n",
       "    </tr>\n",
       "    <tr>\n",
       "      <th>3089</th>\n",
       "      <td>3090</td>\n",
       "      <td>What's going on? Pats' success unmatched under...</td>\n",
       "      <td>NaN</td>\n",
       "    </tr>\n",
       "    <tr>\n",
       "      <th>6445</th>\n",
       "      <td>6446</td>\n",
       "      <td>Cheese in my pocket velveeta!\"</td>\n",
       "      <td>NaN</td>\n",
       "    </tr>\n",
       "    <tr>\n",
       "      <th>6151</th>\n",
       "      <td>6152</td>\n",
       "      <td>Kraft cheese is plastic.. not food anymore. ht...</td>\n",
       "      <td>NaN</td>\n",
       "    </tr>\n",
       "    <tr>\n",
       "      <th>1029</th>\n",
       "      <td>1030</td>\n",
       "      <td>If I got paid to hear chicks lie I would of ma...</td>\n",
       "      <td>NaN</td>\n",
       "    </tr>\n",
       "    <tr>\n",
       "      <th>2589</th>\n",
       "      <td>2590</td>\n",
       "      <td>RT @ovvnd: Kraft Singles American Cheese Comme...</td>\n",
       "      <td>NaN</td>\n",
       "    </tr>\n",
       "    <tr>\n",
       "      <th>6718</th>\n",
       "      <td>6719</td>\n",
       "      <td>Bout?Fry Some?&amp;Make Some Velveeta Mac&amp;Cheese?</td>\n",
       "      <td>NaN</td>\n",
       "    </tr>\n",
       "    <tr>\n",
       "      <th>4929</th>\n",
       "      <td>4930</td>\n",
       "      <td>I think its time to start a new chapter in lif...</td>\n",
       "      <td>NaN</td>\n",
       "    </tr>\n",
       "  </tbody>\n",
       "</table>\n",
       "</div>"
      ],
      "text/plain": [
       "        ID                           Katakana text Translated Unnamed: 2\n",
       "1693  1694  Roger Goodell on deflategate investigation Kra...        NaN\n",
       "3778  3779  So basically the commissioner says he won't be...        NaN\n",
       "4229  4230  Patriots owner Kraft stands front-and-center i...        NaN\n",
       "3089  3090  What's going on? Pats' success unmatched under...        NaN\n",
       "6445  6446                     Cheese in my pocket velveeta!\"        NaN\n",
       "6151  6152  Kraft cheese is plastic.. not food anymore. ht...        NaN\n",
       "1029  1030  If I got paid to hear chicks lie I would of ma...        NaN\n",
       "2589  2590  RT @ovvnd: Kraft Singles American Cheese Comme...        NaN\n",
       "6718  6719      Bout?Fry Some?&Make Some Velveeta Mac&Cheese?        NaN\n",
       "4929  4930  I think its time to start a new chapter in lif...        NaN"
      ]
     },
     "execution_count": 6,
     "metadata": {},
     "output_type": "execute_result"
    }
   ],
   "source": [
    "df.sample(10)"
   ]
  },
  {
   "cell_type": "code",
   "execution_count": 7,
   "id": "e52988e8-ae49-4e63-a86b-cafb3469c76a",
   "metadata": {},
   "outputs": [
    {
     "name": "stdout",
     "output_type": "stream",
     "text": [
      "<class 'pandas.core.frame.DataFrame'>\n",
      "RangeIndex: 6936 entries, 0 to 6935\n",
      "Data columns (total 3 columns):\n",
      " #   Column                    Non-Null Count  Dtype \n",
      "---  ------                    --------------  ----- \n",
      " 0   ID                        6936 non-null   int64 \n",
      " 1   Katakana text Translated  6936 non-null   object\n",
      " 2   Unnamed: 2                1 non-null      object\n",
      "dtypes: int64(1), object(2)\n",
      "memory usage: 162.7+ KB\n"
     ]
    }
   ],
   "source": [
    "df.info()"
   ]
  },
  {
   "cell_type": "markdown",
   "id": "69bed18e-ebf2-4eb3-bd36-4aa74ad281b7",
   "metadata": {},
   "source": [
    "# Data Preprocessing"
   ]
  },
  {
   "cell_type": "markdown",
   "id": "e9c89cd5-94a1-4f4e-b722-d8f60a3db73c",
   "metadata": {},
   "source": [
    "## Removing Useless Columns"
   ]
  },
  {
   "cell_type": "code",
   "execution_count": 8,
   "id": "bee44f4b-1d93-47e7-a966-2b21a3a8310a",
   "metadata": {},
   "outputs": [
    {
     "data": {
      "text/plain": [
       "1"
      ]
     },
     "execution_count": 8,
     "metadata": {},
     "output_type": "execute_result"
    }
   ],
   "source": [
    "df['Unnamed: 2'].notnull().sum()"
   ]
  },
  {
   "cell_type": "code",
   "execution_count": 9,
   "id": "07ec2359-3818-4f1d-9ca6-d941b145659d",
   "metadata": {},
   "outputs": [
    {
     "data": {
      "text/html": [
       "<div>\n",
       "<style scoped>\n",
       "    .dataframe tbody tr th:only-of-type {\n",
       "        vertical-align: middle;\n",
       "    }\n",
       "\n",
       "    .dataframe tbody tr th {\n",
       "        vertical-align: top;\n",
       "    }\n",
       "\n",
       "    .dataframe thead th {\n",
       "        text-align: right;\n",
       "    }\n",
       "</style>\n",
       "<table border=\"1\" class=\"dataframe\">\n",
       "  <thead>\n",
       "    <tr style=\"text-align: right;\">\n",
       "      <th></th>\n",
       "      <th>ID</th>\n",
       "      <th>Katakana text Translated</th>\n",
       "      <th>Unnamed: 2</th>\n",
       "    </tr>\n",
       "  </thead>\n",
       "  <tbody>\n",
       "    <tr>\n",
       "      <th>5988</th>\n",
       "      <td>5989</td>\n",
       "      <td>\"cheese in my pocket velveeta!\"\"</td>\n",
       "      <td>@ChiefKeef\"</td>\n",
       "    </tr>\n",
       "  </tbody>\n",
       "</table>\n",
       "</div>"
      ],
      "text/plain": [
       "        ID          Katakana text Translated      Unnamed: 2\n",
       "5988  5989  \"cheese in my pocket velveeta!\"\"     @ChiefKeef\""
      ]
     },
     "execution_count": 9,
     "metadata": {},
     "output_type": "execute_result"
    }
   ],
   "source": [
    "df[df['Unnamed: 2'].notnull() == True]"
   ]
  },
  {
   "cell_type": "code",
   "execution_count": 10,
   "id": "e8cb2a56-e330-48eb-aae4-3fc94e856e77",
   "metadata": {},
   "outputs": [],
   "source": [
    "df.drop(['Unnamed: 2','ID'],axis=1,inplace=True)"
   ]
  },
  {
   "cell_type": "code",
   "execution_count": 11,
   "id": "4601cfcb-fc86-4925-b90e-bf1bb55600e0",
   "metadata": {},
   "outputs": [
    {
     "data": {
      "text/html": [
       "<div>\n",
       "<style scoped>\n",
       "    .dataframe tbody tr th:only-of-type {\n",
       "        vertical-align: middle;\n",
       "    }\n",
       "\n",
       "    .dataframe tbody tr th {\n",
       "        vertical-align: top;\n",
       "    }\n",
       "\n",
       "    .dataframe thead th {\n",
       "        text-align: right;\n",
       "    }\n",
       "</style>\n",
       "<table border=\"1\" class=\"dataframe\">\n",
       "  <thead>\n",
       "    <tr style=\"text-align: right;\">\n",
       "      <th></th>\n",
       "      <th>Katakana text Translated</th>\n",
       "    </tr>\n",
       "  </thead>\n",
       "  <tbody>\n",
       "    <tr>\n",
       "      <th>0</th>\n",
       "      <td>Huge @Patriots pep rally at Toso's in PHX...wa...</td>\n",
       "    </tr>\n",
       "    <tr>\n",
       "      <th>1</th>\n",
       "      <td>For Robert Kraft and Roger Goodell air still i...</td>\n",
       "    </tr>\n",
       "    <tr>\n",
       "      <th>2</th>\n",
       "      <td>For Robert Kraft and Roger Goodell air still i...</td>\n",
       "    </tr>\n",
       "    <tr>\n",
       "      <th>3</th>\n",
       "      <td>Need #recipes? Visit the Kraft #CookingUpGood ...</td>\n",
       "    </tr>\n",
       "    <tr>\n",
       "      <th>4</th>\n",
       "      <td>@EdgeofSports You take the good-You take the b...</td>\n",
       "    </tr>\n",
       "    <tr>\n",
       "      <th>...</th>\n",
       "      <td>...</td>\n",
       "    </tr>\n",
       "    <tr>\n",
       "      <th>6931</th>\n",
       "      <td>CHEESE IN MY POCKETS VELVEETA\"</td>\n",
       "    </tr>\n",
       "    <tr>\n",
       "      <th>6932</th>\n",
       "      <td>But why somebody just posted a pic on my fb fe...</td>\n",
       "    </tr>\n",
       "    <tr>\n",
       "      <th>6933</th>\n",
       "      <td>Cheese in my pockets .. Velveeta</td>\n",
       "    </tr>\n",
       "    <tr>\n",
       "      <th>6934</th>\n",
       "      <td>Cheese in my pocket Velveeta !</td>\n",
       "    </tr>\n",
       "    <tr>\n",
       "      <th>6935</th>\n",
       "      <td>Get a #Save $1 off #Kraft Natural #Cheese Prod...</td>\n",
       "    </tr>\n",
       "  </tbody>\n",
       "</table>\n",
       "<p>6936 rows × 1 columns</p>\n",
       "</div>"
      ],
      "text/plain": [
       "                               Katakana text Translated\n",
       "0     Huge @Patriots pep rally at Toso's in PHX...wa...\n",
       "1     For Robert Kraft and Roger Goodell air still i...\n",
       "2     For Robert Kraft and Roger Goodell air still i...\n",
       "3     Need #recipes? Visit the Kraft #CookingUpGood ...\n",
       "4     @EdgeofSports You take the good-You take the b...\n",
       "...                                                 ...\n",
       "6931                     CHEESE IN MY POCKETS VELVEETA\"\n",
       "6932  But why somebody just posted a pic on my fb fe...\n",
       "6933                   Cheese in my pockets .. Velveeta\n",
       "6934                     Cheese in my pocket Velveeta !\n",
       "6935  Get a #Save $1 off #Kraft Natural #Cheese Prod...\n",
       "\n",
       "[6936 rows x 1 columns]"
      ]
     },
     "execution_count": 11,
     "metadata": {},
     "output_type": "execute_result"
    }
   ],
   "source": [
    "df"
   ]
  },
  {
   "cell_type": "markdown",
   "id": "4013408b-f28e-4d0a-898a-93d639a0628c",
   "metadata": {},
   "source": [
    "## Removing Duplicates"
   ]
  },
  {
   "cell_type": "code",
   "execution_count": 12,
   "id": "77bff588-4e75-45ad-b8f8-a0492f2f06c4",
   "metadata": {},
   "outputs": [
    {
     "data": {
      "text/html": [
       "<div>\n",
       "<style scoped>\n",
       "    .dataframe tbody tr th:only-of-type {\n",
       "        vertical-align: middle;\n",
       "    }\n",
       "\n",
       "    .dataframe tbody tr th {\n",
       "        vertical-align: top;\n",
       "    }\n",
       "\n",
       "    .dataframe thead th {\n",
       "        text-align: right;\n",
       "    }\n",
       "</style>\n",
       "<table border=\"1\" class=\"dataframe\">\n",
       "  <thead>\n",
       "    <tr style=\"text-align: right;\">\n",
       "      <th></th>\n",
       "      <th>Katakana text Translated</th>\n",
       "    </tr>\n",
       "  </thead>\n",
       "  <tbody>\n",
       "    <tr>\n",
       "      <th>0</th>\n",
       "      <td>Huge @Patriots pep rally at Toso's in PHX...wa...</td>\n",
       "    </tr>\n",
       "    <tr>\n",
       "      <th>1</th>\n",
       "      <td>For Robert Kraft and Roger Goodell air still i...</td>\n",
       "    </tr>\n",
       "    <tr>\n",
       "      <th>2</th>\n",
       "      <td>For Robert Kraft and Roger Goodell air still i...</td>\n",
       "    </tr>\n",
       "    <tr>\n",
       "      <th>3</th>\n",
       "      <td>Need #recipes? Visit the Kraft #CookingUpGood ...</td>\n",
       "    </tr>\n",
       "    <tr>\n",
       "      <th>4</th>\n",
       "      <td>@EdgeofSports You take the good-You take the b...</td>\n",
       "    </tr>\n",
       "  </tbody>\n",
       "</table>\n",
       "</div>"
      ],
      "text/plain": [
       "                            Katakana text Translated\n",
       "0  Huge @Patriots pep rally at Toso's in PHX...wa...\n",
       "1  For Robert Kraft and Roger Goodell air still i...\n",
       "2  For Robert Kraft and Roger Goodell air still i...\n",
       "3  Need #recipes? Visit the Kraft #CookingUpGood ...\n",
       "4  @EdgeofSports You take the good-You take the b..."
      ]
     },
     "execution_count": 12,
     "metadata": {},
     "output_type": "execute_result"
    }
   ],
   "source": [
    "df.head()"
   ]
  },
  {
   "cell_type": "code",
   "execution_count": 17,
   "id": "bb4608ff-2d04-460b-a093-3ae58f6cf91b",
   "metadata": {},
   "outputs": [
    {
     "data": {
      "text/html": [
       "<div>\n",
       "<style scoped>\n",
       "    .dataframe tbody tr th:only-of-type {\n",
       "        vertical-align: middle;\n",
       "    }\n",
       "\n",
       "    .dataframe tbody tr th {\n",
       "        vertical-align: top;\n",
       "    }\n",
       "\n",
       "    .dataframe thead th {\n",
       "        text-align: right;\n",
       "    }\n",
       "</style>\n",
       "<table border=\"1\" class=\"dataframe\">\n",
       "  <thead>\n",
       "    <tr style=\"text-align: right;\">\n",
       "      <th></th>\n",
       "      <th>Katakana text Translated</th>\n",
       "    </tr>\n",
       "  </thead>\n",
       "  <tbody>\n",
       "    <tr>\n",
       "      <th>0</th>\n",
       "      <td>Huge @Patriots pep rally at Toso's in PHX...waiting for Mr Kraft's arrival #GoPats @PatriotsExtra http://t.co/y9NElMN6jo</td>\n",
       "    </tr>\n",
       "    <tr>\n",
       "      <th>1</th>\n",
       "      <td>For Robert Kraft and Roger Goodell air still isn't clear - Boston Globe http://t.co/Rw4oh3hswK #google #sport</td>\n",
       "    </tr>\n",
       "    <tr>\n",
       "      <th>2</th>\n",
       "      <td>For Robert Kraft and Roger Goodell air still isn't clear - Boston Globe http://t.co/yN68nBRFne #google #sport</td>\n",
       "    </tr>\n",
       "    <tr>\n",
       "      <th>3</th>\n",
       "      <td>Need #recipes? Visit the Kraft #CookingUpGood page &amp;amp; watch the video for delicious ideas! http://t.co/eEkfmtgln4</td>\n",
       "    </tr>\n",
       "    <tr>\n",
       "      <th>4</th>\n",
       "      <td>@EdgeofSports You take the good-You take the bad-Givin Bob Kraft hand jobs ain't so bad-The Facts of Life-The Facts of Life#tootiebowl</td>\n",
       "    </tr>\n",
       "  </tbody>\n",
       "</table>\n",
       "</div>"
      ],
      "text/plain": [
       "                                                                                                                 Katakana text Translated\n",
       "0                Huge @Patriots pep rally at Toso's in PHX...waiting for Mr Kraft's arrival #GoPats @PatriotsExtra http://t.co/y9NElMN6jo\n",
       "1                           For Robert Kraft and Roger Goodell air still isn't clear - Boston Globe http://t.co/Rw4oh3hswK #google #sport\n",
       "2                           For Robert Kraft and Roger Goodell air still isn't clear - Boston Globe http://t.co/yN68nBRFne #google #sport\n",
       "3                    Need #recipes? Visit the Kraft #CookingUpGood page &amp; watch the video for delicious ideas! http://t.co/eEkfmtgln4\n",
       "4  @EdgeofSports You take the good-You take the bad-Givin Bob Kraft hand jobs ain't so bad-The Facts of Life-The Facts of Life#tootiebowl"
      ]
     },
     "execution_count": 17,
     "metadata": {},
     "output_type": "execute_result"
    }
   ],
   "source": [
    "pd.set_option(\"display.max_colwidth\",None)\n",
    "df.head()"
   ]
  },
  {
   "cell_type": "code",
   "execution_count": 18,
   "id": "a0245d0b-a7d8-47f2-a777-dea23c9ed9a6",
   "metadata": {},
   "outputs": [
    {
     "data": {
      "text/plain": [
       "166"
      ]
     },
     "execution_count": 18,
     "metadata": {},
     "output_type": "execute_result"
    }
   ],
   "source": [
    "df.duplicated().sum()"
   ]
  },
  {
   "cell_type": "code",
   "execution_count": 20,
   "id": "03c17c2b-0f40-4f0a-be6f-720a35857781",
   "metadata": {},
   "outputs": [],
   "source": [
    "df.drop_duplicates(inplace=True)"
   ]
  },
  {
   "cell_type": "code",
   "execution_count": 21,
   "id": "90f2d9bc-c8bd-49ac-bc7e-f33281c523ed",
   "metadata": {},
   "outputs": [
    {
     "data": {
      "text/plain": [
       "0"
      ]
     },
     "execution_count": 21,
     "metadata": {},
     "output_type": "execute_result"
    }
   ],
   "source": [
    "df.duplicated().sum()"
   ]
  },
  {
   "cell_type": "markdown",
   "id": "2c2e25a8-4707-4ce5-b64a-3dda3bc0a2bd",
   "metadata": {},
   "source": [
    "## Checking for Null values"
   ]
  },
  {
   "cell_type": "code",
   "execution_count": 22,
   "id": "2ef21668-3234-47c9-8dc4-82935baec315",
   "metadata": {},
   "outputs": [
    {
     "name": "stdout",
     "output_type": "stream",
     "text": [
      "<class 'pandas.core.frame.DataFrame'>\n",
      "Index: 6770 entries, 0 to 6935\n",
      "Data columns (total 1 columns):\n",
      " #   Column                    Non-Null Count  Dtype \n",
      "---  ------                    --------------  ----- \n",
      " 0   Katakana text Translated  6770 non-null   object\n",
      "dtypes: object(1)\n",
      "memory usage: 105.8+ KB\n"
     ]
    }
   ],
   "source": [
    "df.info()"
   ]
  },
  {
   "cell_type": "code",
   "execution_count": 23,
   "id": "b84ce271-104a-48bd-94d1-50a3e286427b",
   "metadata": {},
   "outputs": [
    {
     "data": {
      "text/plain": [
       "Katakana text Translated    0\n",
       "dtype: int64"
      ]
     },
     "execution_count": 23,
     "metadata": {},
     "output_type": "execute_result"
    }
   ],
   "source": [
    "df.isnull().sum()"
   ]
  },
  {
   "cell_type": "markdown",
   "id": "2e0bc468-ff8c-4566-8508-c44c8bdb262a",
   "metadata": {},
   "source": [
    "# Text preprocessing"
   ]
  },
  {
   "cell_type": "code",
   "execution_count": 26,
   "id": "44df5ca9-ea9c-4add-a88b-566e874fce81",
   "metadata": {},
   "outputs": [],
   "source": [
    "import re\n",
    "import string\n",
    "import nltk\n",
    "import spacy\n",
    "from nltk.corpus import stopwords\n",
    "from nltk.stem import PorterStemmer\n",
    "from sklearn.feature_extraction.text import CountVectorizer, TfidfVectorizer"
   ]
  },
  {
   "cell_type": "code",
   "execution_count": 35,
   "id": "98b122f0-7126-4cdc-962d-06c863d88d98",
   "metadata": {},
   "outputs": [
    {
     "name": "stderr",
     "output_type": "stream",
     "text": [
      "[nltk_data] Downloading package punkt to /Users/ziyad/nltk_data...\n",
      "[nltk_data]   Package punkt is already up-to-date!\n",
      "[nltk_data] Downloading package stopwords to /Users/ziyad/nltk_data...\n",
      "[nltk_data]   Package stopwords is already up-to-date!\n",
      "[nltk_data] Downloading package wordnet to /Users/ziyad/nltk_data...\n",
      "[nltk_data]   Package wordnet is already up-to-date!\n",
      "[nltk_data] Downloading package punkt_tab to /Users/ziyad/nltk_data...\n",
      "[nltk_data]   Unzipping tokenizers/punkt_tab.zip.\n"
     ]
    },
    {
     "data": {
      "text/plain": [
       "True"
      ]
     },
     "execution_count": 35,
     "metadata": {},
     "output_type": "execute_result"
    }
   ],
   "source": [
    "nltk.download('punkt')\n",
    "nltk.download('stopwords')\n",
    "nltk.download('wordnet')\n",
    "nltk.download('punkt_tab')"
   ]
  },
  {
   "cell_type": "code",
   "execution_count": 29,
   "id": "d43ab5ef-3f46-41ac-b68d-1fda11fd2b2d",
   "metadata": {},
   "outputs": [
    {
     "name": "stdout",
     "output_type": "stream",
     "text": [
      "Downloading 'en_core_web_sm' model...\n",
      "Collecting en-core-web-sm==3.8.0\n",
      "  Downloading https://github.com/explosion/spacy-models/releases/download/en_core_web_sm-3.8.0/en_core_web_sm-3.8.0-py3-none-any.whl (12.8 MB)\n",
      "\u001b[2K     \u001b[90m━━━━━━━━━━━━━━━━━━━━━━━━━━━━━━━━━━━━━━━━\u001b[0m \u001b[32m12.8/12.8 MB\u001b[0m \u001b[31m1.7 MB/s\u001b[0m eta \u001b[36m0:00:00\u001b[0m00:01\u001b[0m00:01\u001b[0m\n",
      "\u001b[?25hInstalling collected packages: en-core-web-sm\n",
      "Successfully installed en-core-web-sm-3.8.0\n",
      "\u001b[38;5;2m✔ Download and installation successful\u001b[0m\n",
      "You can now load the package via spacy.load('en_core_web_sm')\n",
      "\u001b[38;5;3m⚠ Restart to reload dependencies\u001b[0m\n",
      "If you are in a Jupyter or Colab notebook, you may need to restart Python in\n",
      "order to load all the package's dependencies. You can do this by selecting the\n",
      "'Restart kernel' or 'Restart runtime' option.\n"
     ]
    }
   ],
   "source": [
    "# Ensure spaCy English model is downloaded\n",
    "try:\n",
    "    nlp = spacy.load('en_core_web_sm')\n",
    "except OSError:\n",
    "    print(\"Downloading 'en_core_web_sm' model...\")\n",
    "    from spacy.cli import download\n",
    "    download('en_core_web_sm')\n",
    "    nlp = spacy.load('en_core_web_sm')"
   ]
  },
  {
   "cell_type": "code",
   "execution_count": 37,
   "id": "2a545404-6a27-4cc9-a458-aaf6bf31954a",
   "metadata": {},
   "outputs": [
    {
     "data": {
      "text/html": [
       "<div>\n",
       "<style scoped>\n",
       "    .dataframe tbody tr th:only-of-type {\n",
       "        vertical-align: middle;\n",
       "    }\n",
       "\n",
       "    .dataframe tbody tr th {\n",
       "        vertical-align: top;\n",
       "    }\n",
       "\n",
       "    .dataframe thead th {\n",
       "        text-align: right;\n",
       "    }\n",
       "</style>\n",
       "<table border=\"1\" class=\"dataframe\">\n",
       "  <thead>\n",
       "    <tr style=\"text-align: right;\">\n",
       "      <th></th>\n",
       "      <th>Katakana text Translated</th>\n",
       "      <th>Preprocessed Text</th>\n",
       "    </tr>\n",
       "  </thead>\n",
       "  <tbody>\n",
       "    <tr>\n",
       "      <th>0</th>\n",
       "      <td>Huge @Patriots pep rally at Toso's in PHX...waiting for Mr Kraft's arrival #GoPats @PatriotsExtra http://t.co/y9NElMN6jo</td>\n",
       "      <td>huge patriot pep ralli toso phxwait mr kraft arriv gopat patriotsextra</td>\n",
       "    </tr>\n",
       "    <tr>\n",
       "      <th>1</th>\n",
       "      <td>For Robert Kraft and Roger Goodell air still isn't clear - Boston Globe http://t.co/Rw4oh3hswK #google #sport</td>\n",
       "      <td>robert kraft roger goodel air still be not clear boston globe googl sport</td>\n",
       "    </tr>\n",
       "    <tr>\n",
       "      <th>2</th>\n",
       "      <td>For Robert Kraft and Roger Goodell air still isn't clear - Boston Globe http://t.co/yN68nBRFne #google #sport</td>\n",
       "      <td>robert kraft roger goodel air still be not clear boston globe googl sport</td>\n",
       "    </tr>\n",
       "    <tr>\n",
       "      <th>3</th>\n",
       "      <td>Need #recipes? Visit the Kraft #CookingUpGood page &amp;amp; watch the video for delicious ideas! http://t.co/eEkfmtgln4</td>\n",
       "      <td>need recip visit kraft cookingupgood page amp watch video delici idea</td>\n",
       "    </tr>\n",
       "    <tr>\n",
       "      <th>4</th>\n",
       "      <td>@EdgeofSports You take the good-You take the bad-Givin Bob Kraft hand jobs ain't so bad-The Facts of Life-The Facts of Life#tootiebowl</td>\n",
       "      <td>edgeofsport take goodyou take badgivin bob kraft hand job be not badth fact lifeth fact lifetootiebowl</td>\n",
       "    </tr>\n",
       "  </tbody>\n",
       "</table>\n",
       "</div>"
      ],
      "text/plain": [
       "                                                                                                                 Katakana text Translated  \\\n",
       "0                Huge @Patriots pep rally at Toso's in PHX...waiting for Mr Kraft's arrival #GoPats @PatriotsExtra http://t.co/y9NElMN6jo   \n",
       "1                           For Robert Kraft and Roger Goodell air still isn't clear - Boston Globe http://t.co/Rw4oh3hswK #google #sport   \n",
       "2                           For Robert Kraft and Roger Goodell air still isn't clear - Boston Globe http://t.co/yN68nBRFne #google #sport   \n",
       "3                    Need #recipes? Visit the Kraft #CookingUpGood page &amp; watch the video for delicious ideas! http://t.co/eEkfmtgln4   \n",
       "4  @EdgeofSports You take the good-You take the bad-Givin Bob Kraft hand jobs ain't so bad-The Facts of Life-The Facts of Life#tootiebowl   \n",
       "\n",
       "                                                                                        Preprocessed Text  \n",
       "0                                  huge patriot pep ralli toso phxwait mr kraft arriv gopat patriotsextra  \n",
       "1                               robert kraft roger goodel air still be not clear boston globe googl sport  \n",
       "2                               robert kraft roger goodel air still be not clear boston globe googl sport  \n",
       "3                                   need recip visit kraft cookingupgood page amp watch video delici idea  \n",
       "4  edgeofsport take goodyou take badgivin bob kraft hand job be not badth fact lifeth fact lifetootiebowl  "
      ]
     },
     "execution_count": 37,
     "metadata": {},
     "output_type": "execute_result"
    }
   ],
   "source": [
    "# Define a preprocessing function\n",
    "def preprocess_text(text):\n",
    "    # Lowercasing\n",
    "    text = text.lower()\n",
    "\n",
    "    # Removing Links\n",
    "    text = re.sub(r'http\\S+|www\\.\\S+', '', text)\n",
    "    \n",
    "    # Removing Punctuation\n",
    "    text = text.translate(str.maketrans('', '', string.punctuation))\n",
    "    \n",
    "    # Tokenization\n",
    "    tokens = nltk.word_tokenize(text)\n",
    "    \n",
    "    # Stopword Removal\n",
    "    stop_words = set(stopwords.words('english'))\n",
    "    tokens = [word for word in tokens if word not in stop_words]\n",
    "    \n",
    "    # Stemming\n",
    "    stemmer = PorterStemmer()\n",
    "    tokens = [stemmer.stem(word) for word in tokens]\n",
    "    \n",
    "    # Lemmatization\n",
    "    tokens = [token.lemma_ for token in nlp(\" \".join(tokens))]\n",
    "    \n",
    "    # Removing Numbers\n",
    "    tokens = [re.sub(r'\\\\d+', '', word) for word in tokens]\n",
    "    \n",
    "    # Removing Special Characters\n",
    "    tokens = [re.sub(r'[^a-zA-Z]', '', word) for word in tokens]\n",
    "    \n",
    "    # Handling Contractions\n",
    "    contractions = {\n",
    "        \"can't\": \"cannot\",\n",
    "        \"shouldn't\": \"should not\",\n",
    "        \"don't\": \"do not\",\n",
    "        # Add more contractions as needed\n",
    "    }\n",
    "    tokens = [contractions.get(word, word) for word in tokens]\n",
    "    \n",
    "    # Joining tokens back into a string\n",
    "    return \" \".join(tokens)\n",
    "\n",
    "# Apply preprocessing to the DataFrame column\n",
    "df['Preprocessed Text'] = df['Katakana text Translated'].apply(preprocess_text)\n",
    "\n",
    "df.head()"
   ]
  },
  {
   "cell_type": "code",
   "execution_count": 38,
   "id": "32a85937-9652-4f70-89d4-326a1bb172e9",
   "metadata": {},
   "outputs": [
    {
     "data": {
      "text/html": [
       "<div>\n",
       "<style scoped>\n",
       "    .dataframe tbody tr th:only-of-type {\n",
       "        vertical-align: middle;\n",
       "    }\n",
       "\n",
       "    .dataframe tbody tr th {\n",
       "        vertical-align: top;\n",
       "    }\n",
       "\n",
       "    .dataframe thead th {\n",
       "        text-align: right;\n",
       "    }\n",
       "</style>\n",
       "<table border=\"1\" class=\"dataframe\">\n",
       "  <thead>\n",
       "    <tr style=\"text-align: right;\">\n",
       "      <th></th>\n",
       "      <th>Katakana text Translated</th>\n",
       "      <th>Preprocessed Text</th>\n",
       "    </tr>\n",
       "  </thead>\n",
       "  <tbody>\n",
       "    <tr>\n",
       "      <th>1164</th>\n",
       "      <td>#Kraft raising prices on its #coffees</td>\n",
       "      <td>kraft rais price coffe</td>\n",
       "    </tr>\n",
       "    <tr>\n",
       "      <th>2908</th>\n",
       "      <td>Goodell to Kraft: Don't Expect an Apology http://t.co/YWr70umDaF http://t.co/yx72oFNyfH</td>\n",
       "      <td>goodel kraft do not expect apolog</td>\n",
       "    </tr>\n",
       "    <tr>\n",
       "      <th>280</th>\n",
       "      <td>#RobertKraft 'Don't Mess With Bill' #RTmusic https://t.co/GvHSp45U05 #SuperBowlXLIX @a_myren</td>\n",
       "      <td>robertkraft do not mess bill rtmusic superbowlxlix amyren</td>\n",
       "    </tr>\n",
       "    <tr>\n",
       "      <th>3021</th>\n",
       "      <td>Robert Kraft's $175 million investment in New England Patriots paid off big time http://t.co/Cvz74MyRjA via @BI_Sports</td>\n",
       "      <td>robert kraft  million invest new england patriot pay big time via bisport</td>\n",
       "    </tr>\n",
       "    <tr>\n",
       "      <th>6600</th>\n",
       "      <td>I wanna make rotel dip with white cheese for the superbowl...but I've only ever seen the cheddar velveeta</td>\n",
       "      <td>wan na make rotel dip white chee superbowlbut I ve ever see cheddar velveeta</td>\n",
       "    </tr>\n",
       "    <tr>\n",
       "      <th>2348</th>\n",
       "      <td>Patriots owner Robert Kraft was noticeably absent at Roger Goodell’s press conference. http://t.co/fldgdKqc7u</td>\n",
       "      <td>patriot owner robert kraft notic absent roger goodel  press confer</td>\n",
       "    </tr>\n",
       "    <tr>\n",
       "      <th>4999</th>\n",
       "      <td>@holyToledo_ @incredibleHAWK_ lol foh there was pure bars on that project big sean cant make his kraft into cheddar</td>\n",
       "      <td>holytoledo incrediblehawk lol foh pure bar project big sean can not make kraft cheddar</td>\n",
       "    </tr>\n",
       "    <tr>\n",
       "      <th>4792</th>\n",
       "      <td>VZX photography: done #vzxphotography #wedding #kraft #dvdcase http://t.co/eas4wvDqMy</td>\n",
       "      <td>vzx photographi do vzxphotographi we d kraft dvdcase</td>\n",
       "    </tr>\n",
       "    <tr>\n",
       "      <th>1725</th>\n",
       "      <td>Roger Goodell on deflategate investigation Kraft relationship NFL integrity - Boston Herald http://t.co/rw3NXE1Q1B</td>\n",
       "      <td>roger goodel deflateg investig kraft relationship nfl integr boston herald</td>\n",
       "    </tr>\n",
       "    <tr>\n",
       "      <th>2501</th>\n",
       "      <td>Industry Preview 2015: For Kraft Foods Knowing Customers Is A Matter Of Life Or Death http://t.co/JQIQGSv2ON</td>\n",
       "      <td>industri preview  kraft food know custom matter life death</td>\n",
       "    </tr>\n",
       "    <tr>\n",
       "      <th>5916</th>\n",
       "      <td>@carleen_porter I'm proud that we can suffer together</td>\n",
       "      <td>carleenport I m proud suffer togeth</td>\n",
       "    </tr>\n",
       "    <tr>\n",
       "      <th>2528</th>\n",
       "      <td>“@cpriceNFL: The Breakup: Once BFF's Robert Kraft and Roger Goodell now headed in different directions...Jonathan Kraft for Commissioner.</td>\n",
       "      <td>cpricenfl breakup bff robert kraft roger goodel head differ directionsjonathan kraft commission</td>\n",
       "    </tr>\n",
       "    <tr>\n",
       "      <th>3402</th>\n",
       "      <td>Hey Jane Mcmannis @ESPN Kraft had a prior engagement we all knew about do your job miss reporter....</td>\n",
       "      <td>hey jane mcmanni espn kraft prior engag know job miss report</td>\n",
       "    </tr>\n",
       "    <tr>\n",
       "      <th>2206</th>\n",
       "      <td>Yummy new year #recipes #sweepstakes how-to videos &amp;amp; more on from Kraft Foods on Walmart! http://t.co/icHv5kEAyl #CookingUpGood</td>\n",
       "      <td>yummi new year recip sweepstak howto video amp kraft food walmart cookingupgood</td>\n",
       "    </tr>\n",
       "    <tr>\n",
       "      <th>1177</th>\n",
       "      <td>Yummy new year #recipes #sweepstakes how-to videos &amp;amp; more on from Kraft Foods on Walmart! http://t.co/NP2MItn1Ga #CookingUpGood</td>\n",
       "      <td>yummi new year recip sweepstak howto video amp kraft food walmart cookingupgood</td>\n",
       "    </tr>\n",
       "    <tr>\n",
       "      <th>112</th>\n",
       "      <td>#LiveWireTV #SLAPTV Kraft on speech: I didn't like being unfairly attacked http://t.co/HE0aRsW2Ta #LiveWireAthletics</td>\n",
       "      <td>livewiretv slaptv kraft speech do not like unfairli attack livewireathlet</td>\n",
       "    </tr>\n",
       "    <tr>\n",
       "      <th>3421</th>\n",
       "      <td>Kraft and Goodell friends like that? They just said Kraft helped him get his job</td>\n",
       "      <td>kraft goodel friend like say kraft help get job</td>\n",
       "    </tr>\n",
       "    <tr>\n",
       "      <th>3233</th>\n",
       "      <td>I don't want to be a restless soul runnin' on empty burnin' up the road</td>\n",
       "      <td>do not want restless soul runnin empti burnin road</td>\n",
       "    </tr>\n",
       "    <tr>\n",
       "      <th>3255</th>\n",
       "      <td>this hand cramp is god telling me to stop eating kraft dinner with chopsticks</td>\n",
       "      <td>hand cramp god tell stop eat kraft dinner chopstick</td>\n",
       "    </tr>\n",
       "    <tr>\n",
       "      <th>2252</th>\n",
       "      <td>Yummy new year #recipes #sweepstakes how-to videos &amp;amp; more on from Kraft Foods on Walmart! http://t.co/GN6sCyeYyR #CookingUpGood</td>\n",
       "      <td>yummi new year recip sweepstak howto video amp kraft food walmart cookingupgood</td>\n",
       "    </tr>\n",
       "  </tbody>\n",
       "</table>\n",
       "</div>"
      ],
      "text/plain": [
       "                                                                                                                       Katakana text Translated  \\\n",
       "1164                                                                                                      #Kraft raising prices on its #coffees   \n",
       "2908                                                    Goodell to Kraft: Don't Expect an Apology http://t.co/YWr70umDaF http://t.co/yx72oFNyfH   \n",
       "280                                                #RobertKraft 'Don't Mess With Bill' #RTmusic https://t.co/GvHSp45U05 #SuperBowlXLIX @a_myren   \n",
       "3021                     Robert Kraft's $175 million investment in New England Patriots paid off big time http://t.co/Cvz74MyRjA via @BI_Sports   \n",
       "6600                                  I wanna make rotel dip with white cheese for the superbowl...but I've only ever seen the cheddar velveeta   \n",
       "2348                              Patriots owner Robert Kraft was noticeably absent at Roger Goodell’s press conference. http://t.co/fldgdKqc7u   \n",
       "4999                        @holyToledo_ @incredibleHAWK_ lol foh there was pure bars on that project big sean cant make his kraft into cheddar   \n",
       "4792                                                      VZX photography: done #vzxphotography #wedding #kraft #dvdcase http://t.co/eas4wvDqMy   \n",
       "1725                         Roger Goodell on deflategate investigation Kraft relationship NFL integrity - Boston Herald http://t.co/rw3NXE1Q1B   \n",
       "2501                               Industry Preview 2015: For Kraft Foods Knowing Customers Is A Matter Of Life Or Death http://t.co/JQIQGSv2ON   \n",
       "5916                                                                                      @carleen_porter I'm proud that we can suffer together   \n",
       "2528  “@cpriceNFL: The Breakup: Once BFF's Robert Kraft and Roger Goodell now headed in different directions...Jonathan Kraft for Commissioner.   \n",
       "3402                                       Hey Jane Mcmannis @ESPN Kraft had a prior engagement we all knew about do your job miss reporter....   \n",
       "2206        Yummy new year #recipes #sweepstakes how-to videos &amp; more on from Kraft Foods on Walmart! http://t.co/icHv5kEAyl #CookingUpGood   \n",
       "1177        Yummy new year #recipes #sweepstakes how-to videos &amp; more on from Kraft Foods on Walmart! http://t.co/NP2MItn1Ga #CookingUpGood   \n",
       "112                        #LiveWireTV #SLAPTV Kraft on speech: I didn't like being unfairly attacked http://t.co/HE0aRsW2Ta #LiveWireAthletics   \n",
       "3421                                                           Kraft and Goodell friends like that? They just said Kraft helped him get his job   \n",
       "3233                                                                    I don't want to be a restless soul runnin' on empty burnin' up the road   \n",
       "3255                                                              this hand cramp is god telling me to stop eating kraft dinner with chopsticks   \n",
       "2252        Yummy new year #recipes #sweepstakes how-to videos &amp; more on from Kraft Foods on Walmart! http://t.co/GN6sCyeYyR #CookingUpGood   \n",
       "\n",
       "                                                                                     Preprocessed Text  \n",
       "1164                                                                            kraft rais price coffe  \n",
       "2908                                                                 goodel kraft do not expect apolog  \n",
       "280                                          robertkraft do not mess bill rtmusic superbowlxlix amyren  \n",
       "3021                         robert kraft  million invest new england patriot pay big time via bisport  \n",
       "6600                      wan na make rotel dip white chee superbowlbut I ve ever see cheddar velveeta  \n",
       "2348                                patriot owner robert kraft notic absent roger goodel  press confer  \n",
       "4999            holytoledo incrediblehawk lol foh pure bar project big sean can not make kraft cheddar  \n",
       "4792                                              vzx photographi do vzxphotographi we d kraft dvdcase  \n",
       "1725                        roger goodel deflateg investig kraft relationship nfl integr boston herald  \n",
       "2501                                        industri preview  kraft food know custom matter life death  \n",
       "5916                                                               carleenport I m proud suffer togeth  \n",
       "2528   cpricenfl breakup bff robert kraft roger goodel head differ directionsjonathan kraft commission  \n",
       "3402                                      hey jane mcmanni espn kraft prior engag know job miss report  \n",
       "2206                   yummi new year recip sweepstak howto video amp kraft food walmart cookingupgood  \n",
       "1177                   yummi new year recip sweepstak howto video amp kraft food walmart cookingupgood  \n",
       "112                          livewiretv slaptv kraft speech do not like unfairli attack livewireathlet  \n",
       "3421                                                   kraft goodel friend like say kraft help get job  \n",
       "3233                                                do not want restless soul runnin empti burnin road  \n",
       "3255                                               hand cramp god tell stop eat kraft dinner chopstick  \n",
       "2252                   yummi new year recip sweepstak howto video amp kraft food walmart cookingupgood  "
      ]
     },
     "execution_count": 38,
     "metadata": {},
     "output_type": "execute_result"
    }
   ],
   "source": [
    "df.sample(20)"
   ]
  },
  {
   "cell_type": "code",
   "execution_count": 43,
   "id": "16aca9f7-6b2a-41a8-b925-968f576e36e0",
   "metadata": {},
   "outputs": [
    {
     "data": {
      "text/plain": [
       "1523"
      ]
     },
     "execution_count": 43,
     "metadata": {},
     "output_type": "execute_result"
    }
   ],
   "source": [
    "df['Preprocessed Text'].duplicated().sum()"
   ]
  },
  {
   "cell_type": "markdown",
   "id": "7c1ed06a-9c49-41fc-afb0-01f3ffd09b97",
   "metadata": {},
   "source": [
    "## Information Extraction"
   ]
  },
  {
   "cell_type": "code",
   "execution_count": 44,
   "id": "ac7998e3-f105-463e-aa6d-cdee773b9050",
   "metadata": {},
   "outputs": [
    {
     "data": {
      "text/html": [
       "<div>\n",
       "<style scoped>\n",
       "    .dataframe tbody tr th:only-of-type {\n",
       "        vertical-align: middle;\n",
       "    }\n",
       "\n",
       "    .dataframe tbody tr th {\n",
       "        vertical-align: top;\n",
       "    }\n",
       "\n",
       "    .dataframe thead th {\n",
       "        text-align: right;\n",
       "    }\n",
       "</style>\n",
       "<table border=\"1\" class=\"dataframe\">\n",
       "  <thead>\n",
       "    <tr style=\"text-align: right;\">\n",
       "      <th></th>\n",
       "      <th>Katakana text Translated</th>\n",
       "      <th>Preprocessed Text</th>\n",
       "      <th>Keywords</th>\n",
       "    </tr>\n",
       "  </thead>\n",
       "  <tbody>\n",
       "    <tr>\n",
       "      <th>0</th>\n",
       "      <td>Huge @Patriots pep rally at Toso's in PHX...waiting for Mr Kraft's arrival #GoPats @PatriotsExtra http://t.co/y9NElMN6jo</td>\n",
       "      <td>huge patriot pep ralli toso phxwait mr kraft arriv gopat patriotsextra</td>\n",
       "      <td>arriv; gopat; huge; kraft; mr</td>\n",
       "    </tr>\n",
       "    <tr>\n",
       "      <th>1</th>\n",
       "      <td>For Robert Kraft and Roger Goodell air still isn't clear - Boston Globe http://t.co/Rw4oh3hswK #google #sport</td>\n",
       "      <td>robert kraft roger goodel air still be not clear boston globe googl sport</td>\n",
       "      <td>air; be; boston; clear; globe</td>\n",
       "    </tr>\n",
       "    <tr>\n",
       "      <th>2</th>\n",
       "      <td>For Robert Kraft and Roger Goodell air still isn't clear - Boston Globe http://t.co/yN68nBRFne #google #sport</td>\n",
       "      <td>robert kraft roger goodel air still be not clear boston globe googl sport</td>\n",
       "      <td>air; be; boston; clear; globe</td>\n",
       "    </tr>\n",
       "    <tr>\n",
       "      <th>3</th>\n",
       "      <td>Need #recipes? Visit the Kraft #CookingUpGood page &amp;amp; watch the video for delicious ideas! http://t.co/eEkfmtgln4</td>\n",
       "      <td>need recip visit kraft cookingupgood page amp watch video delici idea</td>\n",
       "      <td>amp; cookingupgood; delici; idea; kraft</td>\n",
       "    </tr>\n",
       "    <tr>\n",
       "      <th>4</th>\n",
       "      <td>@EdgeofSports You take the good-You take the bad-Givin Bob Kraft hand jobs ain't so bad-The Facts of Life-The Facts of Life#tootiebowl</td>\n",
       "      <td>edgeofsport take goodyou take badgivin bob kraft hand job be not badth fact lifeth fact lifetootiebowl</td>\n",
       "      <td>badgivin; badth; be; fact; take</td>\n",
       "    </tr>\n",
       "  </tbody>\n",
       "</table>\n",
       "</div>"
      ],
      "text/plain": [
       "                                                                                                                 Katakana text Translated  \\\n",
       "0                Huge @Patriots pep rally at Toso's in PHX...waiting for Mr Kraft's arrival #GoPats @PatriotsExtra http://t.co/y9NElMN6jo   \n",
       "1                           For Robert Kraft and Roger Goodell air still isn't clear - Boston Globe http://t.co/Rw4oh3hswK #google #sport   \n",
       "2                           For Robert Kraft and Roger Goodell air still isn't clear - Boston Globe http://t.co/yN68nBRFne #google #sport   \n",
       "3                    Need #recipes? Visit the Kraft #CookingUpGood page &amp; watch the video for delicious ideas! http://t.co/eEkfmtgln4   \n",
       "4  @EdgeofSports You take the good-You take the bad-Givin Bob Kraft hand jobs ain't so bad-The Facts of Life-The Facts of Life#tootiebowl   \n",
       "\n",
       "                                                                                        Preprocessed Text  \\\n",
       "0                                  huge patriot pep ralli toso phxwait mr kraft arriv gopat patriotsextra   \n",
       "1                               robert kraft roger goodel air still be not clear boston globe googl sport   \n",
       "2                               robert kraft roger goodel air still be not clear boston globe googl sport   \n",
       "3                                   need recip visit kraft cookingupgood page amp watch video delici idea   \n",
       "4  edgeofsport take goodyou take badgivin bob kraft hand job be not badth fact lifeth fact lifetootiebowl   \n",
       "\n",
       "                                  Keywords  \n",
       "0            arriv; gopat; huge; kraft; mr  \n",
       "1            air; be; boston; clear; globe  \n",
       "2            air; be; boston; clear; globe  \n",
       "3  amp; cookingupgood; delici; idea; kraft  \n",
       "4          badgivin; badth; be; fact; take  "
      ]
     },
     "execution_count": 44,
     "metadata": {},
     "output_type": "execute_result"
    }
   ],
   "source": [
    "from sklearn.feature_extraction.text import TfidfVectorizer\n",
    "\n",
    "# Define a function to extract top keywords for a single row\n",
    "def extract_keywords(text, max_features=5):\n",
    "    vectorizer = TfidfVectorizer(max_features=max_features)\n",
    "    tfidf_matrix = vectorizer.fit_transform([text])  # Process a single row\n",
    "    return \"; \".join(vectorizer.get_feature_names_out())\n",
    "\n",
    "# Apply the function to each row in the DataFrame\n",
    "df['Keywords'] = df['Preprocessed Text'].apply(lambda x: extract_keywords(x, max_features=5))\n",
    "\n",
    "# Display the DataFrame with extracted keywords\n",
    "df.head()"
   ]
  },
  {
   "cell_type": "code",
   "execution_count": 69,
   "id": "f2d14411-5b42-4066-89ed-7882936a4be9",
   "metadata": {},
   "outputs": [
    {
     "data": {
      "text/html": [
       "<div>\n",
       "<style scoped>\n",
       "    .dataframe tbody tr th:only-of-type {\n",
       "        vertical-align: middle;\n",
       "    }\n",
       "\n",
       "    .dataframe tbody tr th {\n",
       "        vertical-align: top;\n",
       "    }\n",
       "\n",
       "    .dataframe thead th {\n",
       "        text-align: right;\n",
       "    }\n",
       "</style>\n",
       "<table border=\"1\" class=\"dataframe\">\n",
       "  <thead>\n",
       "    <tr style=\"text-align: right;\">\n",
       "      <th></th>\n",
       "      <th>Katakana text Translated</th>\n",
       "      <th>Preprocessed Text</th>\n",
       "      <th>Keywords</th>\n",
       "      <th>URLs</th>\n",
       "    </tr>\n",
       "  </thead>\n",
       "  <tbody>\n",
       "    <tr>\n",
       "      <th>0</th>\n",
       "      <td>Huge @Patriots pep rally at Toso's in PHX...waiting for Mr Kraft's arrival #GoPats @PatriotsExtra http://t.co/y9NElMN6jo</td>\n",
       "      <td>huge patriot pep ralli toso phxwait mr kraft arriv gopat patriotsextra</td>\n",
       "      <td>arriv; gopat; huge; kraft; mr</td>\n",
       "      <td>[http://t.co/y9NElMN6jo]</td>\n",
       "    </tr>\n",
       "    <tr>\n",
       "      <th>1</th>\n",
       "      <td>For Robert Kraft and Roger Goodell air still isn't clear - Boston Globe http://t.co/Rw4oh3hswK #google #sport</td>\n",
       "      <td>robert kraft roger goodel air still be not clear boston globe googl sport</td>\n",
       "      <td>air; be; boston; clear; globe</td>\n",
       "      <td>[http://t.co/Rw4oh3hswK]</td>\n",
       "    </tr>\n",
       "    <tr>\n",
       "      <th>2</th>\n",
       "      <td>For Robert Kraft and Roger Goodell air still isn't clear - Boston Globe http://t.co/yN68nBRFne #google #sport</td>\n",
       "      <td>robert kraft roger goodel air still be not clear boston globe googl sport</td>\n",
       "      <td>air; be; boston; clear; globe</td>\n",
       "      <td>[http://t.co/yN68nBRFne]</td>\n",
       "    </tr>\n",
       "    <tr>\n",
       "      <th>3</th>\n",
       "      <td>Need #recipes? Visit the Kraft #CookingUpGood page &amp;amp; watch the video for delicious ideas! http://t.co/eEkfmtgln4</td>\n",
       "      <td>need recip visit kraft cookingupgood page amp watch video delici idea</td>\n",
       "      <td>amp; cookingupgood; delici; idea; kraft</td>\n",
       "      <td>[http://t.co/eEkfmtgln4]</td>\n",
       "    </tr>\n",
       "    <tr>\n",
       "      <th>4</th>\n",
       "      <td>@EdgeofSports You take the good-You take the bad-Givin Bob Kraft hand jobs ain't so bad-The Facts of Life-The Facts of Life#tootiebowl</td>\n",
       "      <td>edgeofsport take goodyou take badgivin bob kraft hand job be not badth fact lifeth fact lifetootiebowl</td>\n",
       "      <td>badgivin; badth; be; fact; take</td>\n",
       "      <td>None</td>\n",
       "    </tr>\n",
       "  </tbody>\n",
       "</table>\n",
       "</div>"
      ],
      "text/plain": [
       "                                                                                                                 Katakana text Translated  \\\n",
       "0                Huge @Patriots pep rally at Toso's in PHX...waiting for Mr Kraft's arrival #GoPats @PatriotsExtra http://t.co/y9NElMN6jo   \n",
       "1                           For Robert Kraft and Roger Goodell air still isn't clear - Boston Globe http://t.co/Rw4oh3hswK #google #sport   \n",
       "2                           For Robert Kraft and Roger Goodell air still isn't clear - Boston Globe http://t.co/yN68nBRFne #google #sport   \n",
       "3                    Need #recipes? Visit the Kraft #CookingUpGood page &amp; watch the video for delicious ideas! http://t.co/eEkfmtgln4   \n",
       "4  @EdgeofSports You take the good-You take the bad-Givin Bob Kraft hand jobs ain't so bad-The Facts of Life-The Facts of Life#tootiebowl   \n",
       "\n",
       "                                                                                        Preprocessed Text  \\\n",
       "0                                  huge patriot pep ralli toso phxwait mr kraft arriv gopat patriotsextra   \n",
       "1                               robert kraft roger goodel air still be not clear boston globe googl sport   \n",
       "2                               robert kraft roger goodel air still be not clear boston globe googl sport   \n",
       "3                                   need recip visit kraft cookingupgood page amp watch video delici idea   \n",
       "4  edgeofsport take goodyou take badgivin bob kraft hand job be not badth fact lifeth fact lifetootiebowl   \n",
       "\n",
       "                                  Keywords                      URLs  \n",
       "0            arriv; gopat; huge; kraft; mr  [http://t.co/y9NElMN6jo]  \n",
       "1            air; be; boston; clear; globe  [http://t.co/Rw4oh3hswK]  \n",
       "2            air; be; boston; clear; globe  [http://t.co/yN68nBRFne]  \n",
       "3  amp; cookingupgood; delici; idea; kraft  [http://t.co/eEkfmtgln4]  \n",
       "4          badgivin; badth; be; fact; take                      None  "
      ]
     },
     "execution_count": 69,
     "metadata": {},
     "output_type": "execute_result"
    }
   ],
   "source": [
    "# Define a function to extract URLs\n",
    "def extract_urls(text):\n",
    "    urls = re.findall(r'http\\S+|www\\.\\S+', text)\n",
    "    return urls if urls else 'None'\n",
    "\n",
    "df['URLs'] = df['Katakana text Translated'].apply(extract_urls)\n",
    "\n",
    "# Display the DataFrame with extracted URLs\n",
    "df.head()"
   ]
  },
  {
   "cell_type": "code",
   "execution_count": 73,
   "id": "fcee28c8-c212-4693-b5b1-2e090a21e802",
   "metadata": {},
   "outputs": [
    {
     "data": {
      "text/plain": [
       "URLs\n",
       "None                                              3455\n",
       "[https://t.co/GvHSp45U05]                          104\n",
       "[http://t.c…]                                        8\n",
       "[http://t.co…]                                       7\n",
       "[http…]                                              7\n",
       "                                                  ... \n",
       "[http://t.co/P4jfJLFntD]                             1\n",
       "[http://t.co/hs7ZT1e6RG]                             1\n",
       "[http://t.co/It7XCQzYwA]                             1\n",
       "[http://t.co/snLFxVfM0z]                             1\n",
       "[http://pinterest.com/pin/446911962998255057/]       1\n",
       "Name: count, Length: 2915, dtype: int64"
      ]
     },
     "execution_count": 73,
     "metadata": {},
     "output_type": "execute_result"
    }
   ],
   "source": [
    "# Counting Rows that don't Have URLs \n",
    "df['URLs'].value_counts()"
   ]
  },
  {
   "cell_type": "code",
   "execution_count": 75,
   "id": "78bace00-9b70-4468-b060-572fcbf775e5",
   "metadata": {},
   "outputs": [
    {
     "data": {
      "text/html": [
       "<div>\n",
       "<style scoped>\n",
       "    .dataframe tbody tr th:only-of-type {\n",
       "        vertical-align: middle;\n",
       "    }\n",
       "\n",
       "    .dataframe tbody tr th {\n",
       "        vertical-align: top;\n",
       "    }\n",
       "\n",
       "    .dataframe thead th {\n",
       "        text-align: right;\n",
       "    }\n",
       "</style>\n",
       "<table border=\"1\" class=\"dataframe\">\n",
       "  <thead>\n",
       "    <tr style=\"text-align: right;\">\n",
       "      <th></th>\n",
       "      <th>Katakana text Translated</th>\n",
       "      <th>Preprocessed Text</th>\n",
       "      <th>Keywords</th>\n",
       "      <th>URLs</th>\n",
       "      <th>Sentiment</th>\n",
       "    </tr>\n",
       "  </thead>\n",
       "  <tbody>\n",
       "    <tr>\n",
       "      <th>0</th>\n",
       "      <td>Huge @Patriots pep rally at Toso's in PHX...waiting for Mr Kraft's arrival #GoPats @PatriotsExtra http://t.co/y9NElMN6jo</td>\n",
       "      <td>huge patriot pep ralli toso phxwait mr kraft arriv gopat patriotsextra</td>\n",
       "      <td>arriv; gopat; huge; kraft; mr</td>\n",
       "      <td>[http://t.co/y9NElMN6jo]</td>\n",
       "      <td>0.40</td>\n",
       "    </tr>\n",
       "    <tr>\n",
       "      <th>1</th>\n",
       "      <td>For Robert Kraft and Roger Goodell air still isn't clear - Boston Globe http://t.co/Rw4oh3hswK #google #sport</td>\n",
       "      <td>robert kraft roger goodel air still be not clear boston globe googl sport</td>\n",
       "      <td>air; be; boston; clear; globe</td>\n",
       "      <td>[http://t.co/Rw4oh3hswK]</td>\n",
       "      <td>-0.05</td>\n",
       "    </tr>\n",
       "    <tr>\n",
       "      <th>2</th>\n",
       "      <td>For Robert Kraft and Roger Goodell air still isn't clear - Boston Globe http://t.co/yN68nBRFne #google #sport</td>\n",
       "      <td>robert kraft roger goodel air still be not clear boston globe googl sport</td>\n",
       "      <td>air; be; boston; clear; globe</td>\n",
       "      <td>[http://t.co/yN68nBRFne]</td>\n",
       "      <td>-0.05</td>\n",
       "    </tr>\n",
       "    <tr>\n",
       "      <th>3</th>\n",
       "      <td>Need #recipes? Visit the Kraft #CookingUpGood page &amp;amp; watch the video for delicious ideas! http://t.co/eEkfmtgln4</td>\n",
       "      <td>need recip visit kraft cookingupgood page amp watch video delici idea</td>\n",
       "      <td>amp; cookingupgood; delici; idea; kraft</td>\n",
       "      <td>[http://t.co/eEkfmtgln4]</td>\n",
       "      <td>0.00</td>\n",
       "    </tr>\n",
       "    <tr>\n",
       "      <th>4</th>\n",
       "      <td>@EdgeofSports You take the good-You take the bad-Givin Bob Kraft hand jobs ain't so bad-The Facts of Life-The Facts of Life#tootiebowl</td>\n",
       "      <td>edgeofsport take goodyou take badgivin bob kraft hand job be not badth fact lifeth fact lifetootiebowl</td>\n",
       "      <td>badgivin; badth; be; fact; take</td>\n",
       "      <td>None</td>\n",
       "      <td>0.00</td>\n",
       "    </tr>\n",
       "  </tbody>\n",
       "</table>\n",
       "</div>"
      ],
      "text/plain": [
       "                                                                                                                 Katakana text Translated  \\\n",
       "0                Huge @Patriots pep rally at Toso's in PHX...waiting for Mr Kraft's arrival #GoPats @PatriotsExtra http://t.co/y9NElMN6jo   \n",
       "1                           For Robert Kraft and Roger Goodell air still isn't clear - Boston Globe http://t.co/Rw4oh3hswK #google #sport   \n",
       "2                           For Robert Kraft and Roger Goodell air still isn't clear - Boston Globe http://t.co/yN68nBRFne #google #sport   \n",
       "3                    Need #recipes? Visit the Kraft #CookingUpGood page &amp; watch the video for delicious ideas! http://t.co/eEkfmtgln4   \n",
       "4  @EdgeofSports You take the good-You take the bad-Givin Bob Kraft hand jobs ain't so bad-The Facts of Life-The Facts of Life#tootiebowl   \n",
       "\n",
       "                                                                                        Preprocessed Text  \\\n",
       "0                                  huge patriot pep ralli toso phxwait mr kraft arriv gopat patriotsextra   \n",
       "1                               robert kraft roger goodel air still be not clear boston globe googl sport   \n",
       "2                               robert kraft roger goodel air still be not clear boston globe googl sport   \n",
       "3                                   need recip visit kraft cookingupgood page amp watch video delici idea   \n",
       "4  edgeofsport take goodyou take badgivin bob kraft hand job be not badth fact lifeth fact lifetootiebowl   \n",
       "\n",
       "                                  Keywords                      URLs  \\\n",
       "0            arriv; gopat; huge; kraft; mr  [http://t.co/y9NElMN6jo]   \n",
       "1            air; be; boston; clear; globe  [http://t.co/Rw4oh3hswK]   \n",
       "2            air; be; boston; clear; globe  [http://t.co/yN68nBRFne]   \n",
       "3  amp; cookingupgood; delici; idea; kraft  [http://t.co/eEkfmtgln4]   \n",
       "4          badgivin; badth; be; fact; take                      None   \n",
       "\n",
       "   Sentiment  \n",
       "0       0.40  \n",
       "1      -0.05  \n",
       "2      -0.05  \n",
       "3       0.00  \n",
       "4       0.00  "
      ]
     },
     "execution_count": 75,
     "metadata": {},
     "output_type": "execute_result"
    }
   ],
   "source": [
    "from textblob import TextBlob\n",
    "\n",
    "# Analyze sentiment\n",
    "df['Sentiment'] = df['Preprocessed Text'].apply(lambda x: TextBlob(x).sentiment.polarity)\n",
    "\n",
    "# Display the DataFrame with extracted sentiment\n",
    "df.head()"
   ]
  },
  {
   "cell_type": "code",
   "execution_count": 80,
   "id": "651572b8-cdc6-46ee-8255-fae0ba27b2bb",
   "metadata": {},
   "outputs": [
    {
     "data": {
      "text/html": [
       "<div>\n",
       "<style scoped>\n",
       "    .dataframe tbody tr th:only-of-type {\n",
       "        vertical-align: middle;\n",
       "    }\n",
       "\n",
       "    .dataframe tbody tr th {\n",
       "        vertical-align: top;\n",
       "    }\n",
       "\n",
       "    .dataframe thead th {\n",
       "        text-align: right;\n",
       "    }\n",
       "</style>\n",
       "<table border=\"1\" class=\"dataframe\">\n",
       "  <thead>\n",
       "    <tr style=\"text-align: right;\">\n",
       "      <th></th>\n",
       "      <th>Katakana text Translated</th>\n",
       "      <th>Preprocessed Text</th>\n",
       "      <th>Keywords</th>\n",
       "      <th>URLs</th>\n",
       "      <th>Sentiment</th>\n",
       "      <th>Entities</th>\n",
       "    </tr>\n",
       "  </thead>\n",
       "  <tbody>\n",
       "    <tr>\n",
       "      <th>0</th>\n",
       "      <td>Huge @Patriots pep rally at Toso's in PHX...waiting for Mr Kraft's arrival #GoPats @PatriotsExtra http://t.co/y9NElMN6jo</td>\n",
       "      <td>huge patriot pep ralli toso phxwait mr kraft arriv gopat patriotsextra</td>\n",
       "      <td>arriv; gopat; huge; kraft; mr</td>\n",
       "      <td>[http://t.co/y9NElMN6jo]</td>\n",
       "      <td>0.40</td>\n",
       "      <td>[(kraft arriv gopat patriotsextra, ORG)]</td>\n",
       "    </tr>\n",
       "    <tr>\n",
       "      <th>1</th>\n",
       "      <td>For Robert Kraft and Roger Goodell air still isn't clear - Boston Globe http://t.co/Rw4oh3hswK #google #sport</td>\n",
       "      <td>robert kraft roger goodel air still be not clear boston globe googl sport</td>\n",
       "      <td>air; be; boston; clear; globe</td>\n",
       "      <td>[http://t.co/Rw4oh3hswK]</td>\n",
       "      <td>-0.05</td>\n",
       "      <td>[(robert kraft roger goodel air, PERSON), (boston, GPE), (googl sport, PERSON)]</td>\n",
       "    </tr>\n",
       "    <tr>\n",
       "      <th>2</th>\n",
       "      <td>For Robert Kraft and Roger Goodell air still isn't clear - Boston Globe http://t.co/yN68nBRFne #google #sport</td>\n",
       "      <td>robert kraft roger goodel air still be not clear boston globe googl sport</td>\n",
       "      <td>air; be; boston; clear; globe</td>\n",
       "      <td>[http://t.co/yN68nBRFne]</td>\n",
       "      <td>-0.05</td>\n",
       "      <td>[(robert kraft roger goodel air, PERSON), (boston, GPE), (googl sport, PERSON)]</td>\n",
       "    </tr>\n",
       "    <tr>\n",
       "      <th>3</th>\n",
       "      <td>Need #recipes? Visit the Kraft #CookingUpGood page &amp;amp; watch the video for delicious ideas! http://t.co/eEkfmtgln4</td>\n",
       "      <td>need recip visit kraft cookingupgood page amp watch video delici idea</td>\n",
       "      <td>amp; cookingupgood; delici; idea; kraft</td>\n",
       "      <td>[http://t.co/eEkfmtgln4]</td>\n",
       "      <td>0.00</td>\n",
       "      <td>None</td>\n",
       "    </tr>\n",
       "    <tr>\n",
       "      <th>4</th>\n",
       "      <td>@EdgeofSports You take the good-You take the bad-Givin Bob Kraft hand jobs ain't so bad-The Facts of Life-The Facts of Life#tootiebowl</td>\n",
       "      <td>edgeofsport take goodyou take badgivin bob kraft hand job be not badth fact lifeth fact lifetootiebowl</td>\n",
       "      <td>badgivin; badth; be; fact; take</td>\n",
       "      <td>None</td>\n",
       "      <td>0.00</td>\n",
       "      <td>None</td>\n",
       "    </tr>\n",
       "  </tbody>\n",
       "</table>\n",
       "</div>"
      ],
      "text/plain": [
       "                                                                                                                 Katakana text Translated  \\\n",
       "0                Huge @Patriots pep rally at Toso's in PHX...waiting for Mr Kraft's arrival #GoPats @PatriotsExtra http://t.co/y9NElMN6jo   \n",
       "1                           For Robert Kraft and Roger Goodell air still isn't clear - Boston Globe http://t.co/Rw4oh3hswK #google #sport   \n",
       "2                           For Robert Kraft and Roger Goodell air still isn't clear - Boston Globe http://t.co/yN68nBRFne #google #sport   \n",
       "3                    Need #recipes? Visit the Kraft #CookingUpGood page &amp; watch the video for delicious ideas! http://t.co/eEkfmtgln4   \n",
       "4  @EdgeofSports You take the good-You take the bad-Givin Bob Kraft hand jobs ain't so bad-The Facts of Life-The Facts of Life#tootiebowl   \n",
       "\n",
       "                                                                                        Preprocessed Text  \\\n",
       "0                                  huge patriot pep ralli toso phxwait mr kraft arriv gopat patriotsextra   \n",
       "1                               robert kraft roger goodel air still be not clear boston globe googl sport   \n",
       "2                               robert kraft roger goodel air still be not clear boston globe googl sport   \n",
       "3                                   need recip visit kraft cookingupgood page amp watch video delici idea   \n",
       "4  edgeofsport take goodyou take badgivin bob kraft hand job be not badth fact lifeth fact lifetootiebowl   \n",
       "\n",
       "                                  Keywords                      URLs  \\\n",
       "0            arriv; gopat; huge; kraft; mr  [http://t.co/y9NElMN6jo]   \n",
       "1            air; be; boston; clear; globe  [http://t.co/Rw4oh3hswK]   \n",
       "2            air; be; boston; clear; globe  [http://t.co/yN68nBRFne]   \n",
       "3  amp; cookingupgood; delici; idea; kraft  [http://t.co/eEkfmtgln4]   \n",
       "4          badgivin; badth; be; fact; take                      None   \n",
       "\n",
       "   Sentiment  \\\n",
       "0       0.40   \n",
       "1      -0.05   \n",
       "2      -0.05   \n",
       "3       0.00   \n",
       "4       0.00   \n",
       "\n",
       "                                                                          Entities  \n",
       "0                                         [(kraft arriv gopat patriotsextra, ORG)]  \n",
       "1  [(robert kraft roger goodel air, PERSON), (boston, GPE), (googl sport, PERSON)]  \n",
       "2  [(robert kraft roger goodel air, PERSON), (boston, GPE), (googl sport, PERSON)]  \n",
       "3                                                                             None  \n",
       "4                                                                             None  "
      ]
     },
     "execution_count": 80,
     "metadata": {},
     "output_type": "execute_result"
    }
   ],
   "source": [
    "# Function to extract named entities\n",
    "def extract_entities(text):\n",
    "    doc = nlp(text)\n",
    "    entities = [(ent.text, ent.label_) for ent in doc.ents]\n",
    "    return entities if entities else \"None\"\n",
    "\n",
    "df['Entities'] = df['Preprocessed Text'].apply(extract_entities)\n",
    "\n",
    "# Display the DataFrame with extracted entities\n",
    "df.head()"
   ]
  },
  {
   "cell_type": "code",
   "execution_count": 81,
   "id": "914667a3-f0d3-4071-8b85-35e9db3f3a14",
   "metadata": {},
   "outputs": [
    {
     "data": {
      "text/plain": [
       "1580               [(kraftprez, GPE), (kraft mac, PERSON), (chees sister, ORG)]\n",
       "548                                                                [(nfl, ORG)]\n",
       "501                                                                        None\n",
       "4433                                                                       None\n",
       "2180            [(rt kingduman, PERSON), (robert kraft bill belichick, PERSON)]\n",
       "1692    [(roger goodel deflateg investig, PERSON), (nfl integr boston, PERSON)]\n",
       "3807                                                          [(jaykraft, ORG)]\n",
       "6556                                                                       None\n",
       "4260                                                                       None\n",
       "3509                                                                       None\n",
       "4500            [(one, CARDINAL), (nfl apolog, PERSON), (robert kraft, PERSON)]\n",
       "2787                                                                       None\n",
       "6501                                                      [(velveeta mac, ORG)]\n",
       "2264                                          [(cri, PERSON), (kraft mac, ORG)]\n",
       "2972                                                                       None\n",
       "20                     [(robert kraft roger goodel air, PERSON), (boston, GPE)]\n",
       "5134                                                    [(thiel kraft, PERSON)]\n",
       "4970                                                      [(kraft har, PERSON)]\n",
       "282                                                                        None\n",
       "6543                                                     [(kraft cheddar, ORG)]\n",
       "Name: Entities, dtype: object"
      ]
     },
     "execution_count": 81,
     "metadata": {},
     "output_type": "execute_result"
    }
   ],
   "source": [
    "df['Entities'].sample(20)"
   ]
  },
  {
   "cell_type": "code",
   "execution_count": 83,
   "id": "ec08c31d-0f76-4e05-a714-dfeb0643808e",
   "metadata": {},
   "outputs": [
    {
     "data": {
      "text/plain": [
       "Entities\n",
       "None                                                        2488\n",
       "[(robert kraft, PERSON)]                                     117\n",
       "[(kraft har, PERSON)]                                        116\n",
       "[(robert kraft gutsi  million, PERSON)]                       75\n",
       "[(kraft mac, ORG)]                                            64\n",
       "                                                            ... \n",
       "[(carrol bill, PRODUCT), (robert kraft patriot, PERSON)]       1\n",
       "[(rt hiphoprealti, PERSON), (robert kraft, PERSON)]            1\n",
       "[(nfl, PERSON), (robert kraft, PERSON)]                        1\n",
       "[(wettin whistl  yo actressmodel, ORG), (attaboy, GPE)]        1\n",
       "[(uncl ben brown, PERSON)]                                     1\n",
       "Name: count, Length: 2750, dtype: int64"
      ]
     },
     "execution_count": 83,
     "metadata": {},
     "output_type": "execute_result"
    }
   ],
   "source": [
    "# Counting Row that don't have Entities\n",
    "df['Entities'].value_counts()"
   ]
  },
  {
   "cell_type": "code",
   "execution_count": null,
   "id": "45318bc1-9a71-437e-a296-14ad031cd3a2",
   "metadata": {},
   "outputs": [],
   "source": []
  }
 ],
 "metadata": {
  "kernelspec": {
   "display_name": "Python 3 (ipykernel)",
   "language": "python",
   "name": "python3"
  },
  "language_info": {
   "codemirror_mode": {
    "name": "ipython",
    "version": 3
   },
   "file_extension": ".py",
   "mimetype": "text/x-python",
   "name": "python",
   "nbconvert_exporter": "python",
   "pygments_lexer": "ipython3",
   "version": "3.11.10"
  }
 },
 "nbformat": 4,
 "nbformat_minor": 5
}
